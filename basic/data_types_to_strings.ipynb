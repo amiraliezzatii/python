{
 "cells": [
  {
   "cell_type": "code",
   "execution_count": 143,
   "id": "4a9fc1a1",
   "metadata": {},
   "outputs": [],
   "source": [
    "import numpy as np "
   ]
  },
  {
   "cell_type": "code",
   "execution_count": 144,
   "id": "2d9cbeac",
   "metadata": {},
   "outputs": [],
   "source": [
    "import sys"
   ]
  },
  {
   "cell_type": "code",
   "execution_count": 145,
   "id": "9f402268",
   "metadata": {},
   "outputs": [
    {
     "data": {
      "text/plain": [
       "28"
      ]
     },
     "execution_count": 145,
     "metadata": {},
     "output_type": "execute_result"
    }
   ],
   "source": [
    "sys.getsizeof(2)"
   ]
  },
  {
   "cell_type": "code",
   "execution_count": 146,
   "id": "4fa525b9",
   "metadata": {},
   "outputs": [
    {
     "name": "stdout",
     "output_type": "stream",
     "text": [
      "18\n"
     ]
    }
   ],
   "source": [
    "print(0x12)"
   ]
  },
  {
   "cell_type": "code",
   "execution_count": 147,
   "id": "7bc5de78",
   "metadata": {},
   "outputs": [
    {
     "name": "stdout",
     "output_type": "stream",
     "text": [
      "3\n"
     ]
    }
   ],
   "source": [
    "print(0b11)"
   ]
  },
  {
   "cell_type": "code",
   "execution_count": 148,
   "id": "2c3ec00d",
   "metadata": {},
   "outputs": [
    {
     "data": {
      "text/plain": [
       "100000000000.0"
      ]
     },
     "execution_count": 148,
     "metadata": {},
     "output_type": "execute_result"
    }
   ],
   "source": [
    "# tavan\n",
    "10e10"
   ]
  },
  {
   "cell_type": "code",
   "execution_count": 149,
   "id": "913f60dc",
   "metadata": {},
   "outputs": [
    {
     "ename": "SyntaxError",
     "evalue": "unterminated string literal (detected at line 1) (331426199.py, line 1)",
     "output_type": "error",
     "traceback": [
      "\u001b[0;36m  Input \u001b[0;32mIn [149]\u001b[0;36m\u001b[0m\n\u001b[0;31m    print('amirali's book')\u001b[0m\n\u001b[0m                         ^\u001b[0m\n\u001b[0;31mSyntaxError\u001b[0m\u001b[0;31m:\u001b[0m unterminated string literal (detected at line 1)\n"
     ]
    }
   ],
   "source": [
    "print('amirali's book')"
   ]
  },
  {
   "cell_type": "code",
   "execution_count": 150,
   "id": "aaf7ca38",
   "metadata": {},
   "outputs": [
    {
     "name": "stdout",
     "output_type": "stream",
     "text": [
      "amirali's book\n"
     ]
    }
   ],
   "source": [
    "print('amirali\\'s book')"
   ]
  },
  {
   "cell_type": "code",
   "execution_count": 151,
   "id": "48deefc1",
   "metadata": {},
   "outputs": [
    {
     "name": "stdout",
     "output_type": "stream",
     "text": [
      "amiraliezzatii \n",
      " beautiful boy \n"
     ]
    }
   ],
   "source": [
    "print(\"amiraliezzatii \\n beautiful boy \")"
   ]
  },
  {
   "cell_type": "code",
   "execution_count": 152,
   "id": "aa561a57",
   "metadata": {},
   "outputs": [
    {
     "name": "stdout",
     "output_type": "stream",
     "text": [
      "\n",
      "Here is a list of the Python keywords.  Enter any keyword to get more help.\n",
      "\n",
      "False               class               from                or\n",
      "None                continue            global              pass\n",
      "True                def                 if                  raise\n",
      "and                 del                 import              return\n",
      "as                  elif                in                  try\n",
      "assert              else                is                  while\n",
      "async               except              lambda              with\n",
      "await               finally             nonlocal            yield\n",
      "break               for                 not                 \n",
      "\n"
     ]
    }
   ],
   "source": [
    "help('keywords')"
   ]
  },
  {
   "cell_type": "code",
   "execution_count": 153,
   "id": "9709a011",
   "metadata": {},
   "outputs": [
    {
     "name": "stdout",
     "output_type": "stream",
     "text": [
      "a\tb\n"
     ]
    }
   ],
   "source": [
    "print('a\\tb')"
   ]
  },
  {
   "cell_type": "code",
   "execution_count": 154,
   "id": "23888d3b",
   "metadata": {},
   "outputs": [],
   "source": [
    "# \\t tab "
   ]
  },
  {
   "cell_type": "code",
   "execution_count": 155,
   "id": "2e791d92",
   "metadata": {},
   "outputs": [
    {
     "name": "stdout",
     "output_type": "stream",
     "text": [
      "amirali\\'s book\n"
     ]
    }
   ],
   "source": [
    "print(r'amirali\\'s book')"
   ]
  },
  {
   "cell_type": "code",
   "execution_count": 156,
   "id": "ec0ea25a",
   "metadata": {},
   "outputs": [
    {
     "name": "stdout",
     "output_type": "stream",
     "text": [
      "\n"
     ]
    }
   ],
   "source": [
    "print()"
   ]
  },
  {
   "cell_type": "code",
   "execution_count": 157,
   "id": "a0b7b5a9",
   "metadata": {},
   "outputs": [
    {
     "name": "stdout",
     "output_type": "stream",
     "text": [
      "amirali\\s book\n"
     ]
    }
   ],
   "source": [
    "print(\"amirali\\\\s book\")"
   ]
  },
  {
   "cell_type": "code",
   "execution_count": 158,
   "id": "3dbacb78",
   "metadata": {},
   "outputs": [
    {
     "name": "stdout",
     "output_type": "stream",
     "text": [
      "amiraliezzatii() () dsjfsdjfhsjdf()[])__+_+\n"
     ]
    }
   ],
   "source": [
    "print(\"\"\"amiraliezzatii() () dsjfsdjfhsjdf()[])__+_+\"\"\")"
   ]
  },
  {
   "cell_type": "code",
   "execution_count": 159,
   "id": "02837fa5",
   "metadata": {},
   "outputs": [],
   "source": [
    "# \"\"\"\"\"\" for documentation "
   ]
  },
  {
   "cell_type": "code",
   "execution_count": 161,
   "id": "4e6d3bee",
   "metadata": {},
   "outputs": [
    {
     "name": "stdout",
     "output_type": "stream",
     "text": [
      "\n",
      "Here is a list of the Python keywords.  Enter any keyword to get more help.\n",
      "\n",
      "False               class               from                or\n",
      "None                continue            global              pass\n",
      "True                def                 if                  raise\n",
      "and                 del                 import              return\n",
      "as                  elif                in                  try\n",
      "assert              else                is                  while\n",
      "async               except              lambda              with\n",
      "await               finally             nonlocal            yield\n",
      "break               for                 not                 \n",
      "\n"
     ]
    }
   ],
   "source": [
    "help('keywords')"
   ]
  },
  {
   "cell_type": "code",
   "execution_count": 162,
   "id": "1864c811",
   "metadata": {},
   "outputs": [],
   "source": [
    "x =1 \n",
    "y = 1"
   ]
  },
  {
   "cell_type": "code",
   "execution_count": 163,
   "id": "853b2da8",
   "metadata": {},
   "outputs": [
    {
     "data": {
      "text/plain": [
       "True"
      ]
     },
     "execution_count": 163,
     "metadata": {},
     "output_type": "execute_result"
    }
   ],
   "source": [
    "x is y"
   ]
  },
  {
   "cell_type": "code",
   "execution_count": 164,
   "id": "0f42f585",
   "metadata": {},
   "outputs": [],
   "source": [
    "x = 900\n",
    "y = 900\n"
   ]
  },
  {
   "cell_type": "code",
   "execution_count": 165,
   "id": "d743979f",
   "metadata": {},
   "outputs": [
    {
     "data": {
      "text/plain": [
       "False"
      ]
     },
     "execution_count": 165,
     "metadata": {},
     "output_type": "execute_result"
    }
   ],
   "source": [
    "x is y"
   ]
  },
  {
   "cell_type": "code",
   "execution_count": 166,
   "id": "6badf78c",
   "metadata": {},
   "outputs": [
    {
     "data": {
      "text/plain": [
       "True"
      ]
     },
     "execution_count": 166,
     "metadata": {},
     "output_type": "execute_result"
    }
   ],
   "source": [
    "x is not y\n"
   ]
  },
  {
   "cell_type": "code",
   "execution_count": 168,
   "id": "347da167",
   "metadata": {},
   "outputs": [
    {
     "data": {
      "text/plain": [
       "113"
      ]
     },
     "execution_count": 168,
     "metadata": {},
     "output_type": "execute_result"
    }
   ],
   "source": [
    "ord('q')"
   ]
  },
  {
   "cell_type": "code",
   "execution_count": null,
   "id": "d77dfe23",
   "metadata": {},
   "outputs": [],
   "source": []
  }
 ],
 "metadata": {
  "kernelspec": {
   "display_name": "Python 3 (ipykernel)",
   "language": "python",
   "name": "python3"
  },
  "language_info": {
   "codemirror_mode": {
    "name": "ipython",
    "version": 3
   },
   "file_extension": ".py",
   "mimetype": "text/x-python",
   "name": "python",
   "nbconvert_exporter": "python",
   "pygments_lexer": "ipython3",
   "version": "3.10.4"
  }
 },
 "nbformat": 4,
 "nbformat_minor": 5
}
